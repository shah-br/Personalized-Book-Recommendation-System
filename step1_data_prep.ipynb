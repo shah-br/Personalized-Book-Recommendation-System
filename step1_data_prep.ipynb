{
 "cells": [
  {
   "cell_type": "code",
   "execution_count": 1,
   "id": "fd44e7b1",
   "metadata": {},
   "outputs": [],
   "source": [
    "import pandas as pd\n",
    "import csv\n",
    "from scipy.sparse import coo_matrix\n"
   ]
  },
  {
   "cell_type": "code",
   "execution_count": null,
   "id": "3e6587a3",
   "metadata": {},
   "outputs": [
    {
     "data": {
      "text/html": [
       "<div>\n",
       "<style scoped>\n",
       "    .dataframe tbody tr th:only-of-type {\n",
       "        vertical-align: middle;\n",
       "    }\n",
       "\n",
       "    .dataframe tbody tr th {\n",
       "        vertical-align: top;\n",
       "    }\n",
       "\n",
       "    .dataframe thead th {\n",
       "        text-align: right;\n",
       "    }\n",
       "</style>\n",
       "<table border=\"1\" class=\"dataframe\">\n",
       "  <thead>\n",
       "    <tr style=\"text-align: right;\">\n",
       "      <th></th>\n",
       "      <th>User-ID</th>\n",
       "      <th>ISBN</th>\n",
       "      <th>Rating</th>\n",
       "    </tr>\n",
       "  </thead>\n",
       "  <tbody>\n",
       "    <tr>\n",
       "      <th>0</th>\n",
       "      <td>276725</td>\n",
       "      <td>034545104X</td>\n",
       "      <td>0</td>\n",
       "    </tr>\n",
       "    <tr>\n",
       "      <th>1</th>\n",
       "      <td>276726</td>\n",
       "      <td>0155061224</td>\n",
       "      <td>5</td>\n",
       "    </tr>\n",
       "    <tr>\n",
       "      <th>2</th>\n",
       "      <td>276727</td>\n",
       "      <td>0446520802</td>\n",
       "      <td>0</td>\n",
       "    </tr>\n",
       "    <tr>\n",
       "      <th>3</th>\n",
       "      <td>276729</td>\n",
       "      <td>052165615X</td>\n",
       "      <td>3</td>\n",
       "    </tr>\n",
       "    <tr>\n",
       "      <th>4</th>\n",
       "      <td>276729</td>\n",
       "      <td>0521795028</td>\n",
       "      <td>6</td>\n",
       "    </tr>\n",
       "    <tr>\n",
       "      <th>...</th>\n",
       "      <td>...</td>\n",
       "      <td>...</td>\n",
       "      <td>...</td>\n",
       "    </tr>\n",
       "    <tr>\n",
       "      <th>1149775</th>\n",
       "      <td>276704</td>\n",
       "      <td>1563526298</td>\n",
       "      <td>9</td>\n",
       "    </tr>\n",
       "    <tr>\n",
       "      <th>1149776</th>\n",
       "      <td>276706</td>\n",
       "      <td>0679447156</td>\n",
       "      <td>0</td>\n",
       "    </tr>\n",
       "    <tr>\n",
       "      <th>1149777</th>\n",
       "      <td>276709</td>\n",
       "      <td>0515107662</td>\n",
       "      <td>10</td>\n",
       "    </tr>\n",
       "    <tr>\n",
       "      <th>1149778</th>\n",
       "      <td>276721</td>\n",
       "      <td>0590442449</td>\n",
       "      <td>10</td>\n",
       "    </tr>\n",
       "    <tr>\n",
       "      <th>1149779</th>\n",
       "      <td>276723</td>\n",
       "      <td>05162443314</td>\n",
       "      <td>8</td>\n",
       "    </tr>\n",
       "  </tbody>\n",
       "</table>\n",
       "<p>1149780 rows × 3 columns</p>\n",
       "</div>"
      ],
      "text/plain": [
       "         User-ID         ISBN  Rating\n",
       "0         276725   034545104X       0\n",
       "1         276726   0155061224       5\n",
       "2         276727   0446520802       0\n",
       "3         276729   052165615X       3\n",
       "4         276729   0521795028       6\n",
       "...          ...          ...     ...\n",
       "1149775   276704   1563526298       9\n",
       "1149776   276706   0679447156       0\n",
       "1149777   276709   0515107662      10\n",
       "1149778   276721   0590442449      10\n",
       "1149779   276723  05162443314       8\n",
       "\n",
       "[1149780 rows x 3 columns]"
      ]
     },
     "execution_count": 2,
     "metadata": {},
     "output_type": "execute_result"
    }
   ],
   "source": [
    "# Step 1: Load the CSV files\n",
    "ratings_df = pd.read_csv(\"Ratings.csv\", sep=\";\")\n",
    "users_df = pd.read_csv(\"Users.csv\", sep=\";\", low_memory=False)\n",
    "books_df = pd.read_csv(\"Books.csv\", delimiter=\";\")\n",
    "ratings_df\n"
   ]
  },
  {
   "cell_type": "code",
   "execution_count": 3,
   "id": "5b51a040",
   "metadata": {},
   "outputs": [
    {
     "data": {
      "text/html": [
       "<div>\n",
       "<style scoped>\n",
       "    .dataframe tbody tr th:only-of-type {\n",
       "        vertical-align: middle;\n",
       "    }\n",
       "\n",
       "    .dataframe tbody tr th {\n",
       "        vertical-align: top;\n",
       "    }\n",
       "\n",
       "    .dataframe thead th {\n",
       "        text-align: right;\n",
       "    }\n",
       "</style>\n",
       "<table border=\"1\" class=\"dataframe\">\n",
       "  <thead>\n",
       "    <tr style=\"text-align: right;\">\n",
       "      <th></th>\n",
       "      <th>User-ID</th>\n",
       "      <th>Age</th>\n",
       "    </tr>\n",
       "  </thead>\n",
       "  <tbody>\n",
       "    <tr>\n",
       "      <th>0</th>\n",
       "      <td>1</td>\n",
       "      <td>NaN</td>\n",
       "    </tr>\n",
       "    <tr>\n",
       "      <th>1</th>\n",
       "      <td>2</td>\n",
       "      <td>18</td>\n",
       "    </tr>\n",
       "    <tr>\n",
       "      <th>2</th>\n",
       "      <td>3</td>\n",
       "      <td>NaN</td>\n",
       "    </tr>\n",
       "    <tr>\n",
       "      <th>3</th>\n",
       "      <td>4</td>\n",
       "      <td>17</td>\n",
       "    </tr>\n",
       "    <tr>\n",
       "      <th>4</th>\n",
       "      <td>5</td>\n",
       "      <td>NaN</td>\n",
       "    </tr>\n",
       "    <tr>\n",
       "      <th>...</th>\n",
       "      <td>...</td>\n",
       "      <td>...</td>\n",
       "    </tr>\n",
       "    <tr>\n",
       "      <th>278854</th>\n",
       "      <td>278854</td>\n",
       "      <td>NaN</td>\n",
       "    </tr>\n",
       "    <tr>\n",
       "      <th>278855</th>\n",
       "      <td>278855</td>\n",
       "      <td>50</td>\n",
       "    </tr>\n",
       "    <tr>\n",
       "      <th>278856</th>\n",
       "      <td>278856</td>\n",
       "      <td>NaN</td>\n",
       "    </tr>\n",
       "    <tr>\n",
       "      <th>278857</th>\n",
       "      <td>278857</td>\n",
       "      <td>NaN</td>\n",
       "    </tr>\n",
       "    <tr>\n",
       "      <th>278858</th>\n",
       "      <td>278858</td>\n",
       "      <td>NaN</td>\n",
       "    </tr>\n",
       "  </tbody>\n",
       "</table>\n",
       "<p>278859 rows × 2 columns</p>\n",
       "</div>"
      ],
      "text/plain": [
       "       User-ID  Age\n",
       "0            1  NaN\n",
       "1            2   18\n",
       "2            3  NaN\n",
       "3            4   17\n",
       "4            5  NaN\n",
       "...        ...  ...\n",
       "278854  278854  NaN\n",
       "278855  278855   50\n",
       "278856  278856  NaN\n",
       "278857  278857  NaN\n",
       "278858  278858  NaN\n",
       "\n",
       "[278859 rows x 2 columns]"
      ]
     },
     "execution_count": 3,
     "metadata": {},
     "output_type": "execute_result"
    }
   ],
   "source": [
    "users_df"
   ]
  },
  {
   "cell_type": "code",
   "execution_count": 4,
   "id": "fd222030",
   "metadata": {},
   "outputs": [
    {
     "data": {
      "text/html": [
       "<div>\n",
       "<style scoped>\n",
       "    .dataframe tbody tr th:only-of-type {\n",
       "        vertical-align: middle;\n",
       "    }\n",
       "\n",
       "    .dataframe tbody tr th {\n",
       "        vertical-align: top;\n",
       "    }\n",
       "\n",
       "    .dataframe thead th {\n",
       "        text-align: right;\n",
       "    }\n",
       "</style>\n",
       "<table border=\"1\" class=\"dataframe\">\n",
       "  <thead>\n",
       "    <tr style=\"text-align: right;\">\n",
       "      <th></th>\n",
       "      <th>ISBN</th>\n",
       "      <th>Title</th>\n",
       "      <th>Author</th>\n",
       "      <th>Year</th>\n",
       "      <th>Publisher</th>\n",
       "    </tr>\n",
       "  </thead>\n",
       "  <tbody>\n",
       "    <tr>\n",
       "      <th>0</th>\n",
       "      <td>0195153448</td>\n",
       "      <td>Classical Mythology</td>\n",
       "      <td>Mark P. O. Morford</td>\n",
       "      <td>2002</td>\n",
       "      <td>Oxford University Press</td>\n",
       "    </tr>\n",
       "    <tr>\n",
       "      <th>1</th>\n",
       "      <td>0002005018</td>\n",
       "      <td>Clara Callan</td>\n",
       "      <td>Richard Bruce Wright</td>\n",
       "      <td>2001</td>\n",
       "      <td>HarperFlamingo Canada</td>\n",
       "    </tr>\n",
       "    <tr>\n",
       "      <th>2</th>\n",
       "      <td>0060973129</td>\n",
       "      <td>Decision in Normandy</td>\n",
       "      <td>Carlo D'Este</td>\n",
       "      <td>1991</td>\n",
       "      <td>HarperPerennial</td>\n",
       "    </tr>\n",
       "    <tr>\n",
       "      <th>3</th>\n",
       "      <td>0374157065</td>\n",
       "      <td>Flu: The Story of the Great Influenza Pandemic...</td>\n",
       "      <td>Gina Bari Kolata</td>\n",
       "      <td>1999</td>\n",
       "      <td>Farrar Straus Giroux</td>\n",
       "    </tr>\n",
       "    <tr>\n",
       "      <th>4</th>\n",
       "      <td>0393045218</td>\n",
       "      <td>The Mummies of Urumchi</td>\n",
       "      <td>E. J. W. Barber</td>\n",
       "      <td>1999</td>\n",
       "      <td>W. W. Norton &amp; Company</td>\n",
       "    </tr>\n",
       "    <tr>\n",
       "      <th>...</th>\n",
       "      <td>...</td>\n",
       "      <td>...</td>\n",
       "      <td>...</td>\n",
       "      <td>...</td>\n",
       "      <td>...</td>\n",
       "    </tr>\n",
       "    <tr>\n",
       "      <th>271374</th>\n",
       "      <td>0440400988</td>\n",
       "      <td>There's a Bat in Bunk Five</td>\n",
       "      <td>Paula Danziger</td>\n",
       "      <td>1988</td>\n",
       "      <td>Random House Childrens Pub (Mm)</td>\n",
       "    </tr>\n",
       "    <tr>\n",
       "      <th>271375</th>\n",
       "      <td>0525447644</td>\n",
       "      <td>From One to One Hundred</td>\n",
       "      <td>Teri Sloat</td>\n",
       "      <td>1991</td>\n",
       "      <td>Dutton Books</td>\n",
       "    </tr>\n",
       "    <tr>\n",
       "      <th>271376</th>\n",
       "      <td>006008667X</td>\n",
       "      <td>Lily Dale : The True Story of the Town that Ta...</td>\n",
       "      <td>Christine Wicker</td>\n",
       "      <td>2004</td>\n",
       "      <td>HarperSanFrancisco</td>\n",
       "    </tr>\n",
       "    <tr>\n",
       "      <th>271377</th>\n",
       "      <td>0192126040</td>\n",
       "      <td>Republic (World's Classics)</td>\n",
       "      <td>Plato</td>\n",
       "      <td>1996</td>\n",
       "      <td>Oxford University Press</td>\n",
       "    </tr>\n",
       "    <tr>\n",
       "      <th>271378</th>\n",
       "      <td>0767409752</td>\n",
       "      <td>A Guided Tour of Rene Descartes' Meditations o...</td>\n",
       "      <td>Christopher  Biffle</td>\n",
       "      <td>2000</td>\n",
       "      <td>McGraw-Hill Humanities/Social Sciences/Languages</td>\n",
       "    </tr>\n",
       "  </tbody>\n",
       "</table>\n",
       "<p>271379 rows × 5 columns</p>\n",
       "</div>"
      ],
      "text/plain": [
       "              ISBN                                              Title  \\\n",
       "0       0195153448                                Classical Mythology   \n",
       "1       0002005018                                       Clara Callan   \n",
       "2       0060973129                               Decision in Normandy   \n",
       "3       0374157065  Flu: The Story of the Great Influenza Pandemic...   \n",
       "4       0393045218                             The Mummies of Urumchi   \n",
       "...            ...                                                ...   \n",
       "271374  0440400988                         There's a Bat in Bunk Five   \n",
       "271375  0525447644                            From One to One Hundred   \n",
       "271376  006008667X  Lily Dale : The True Story of the Town that Ta...   \n",
       "271377  0192126040                        Republic (World's Classics)   \n",
       "271378  0767409752  A Guided Tour of Rene Descartes' Meditations o...   \n",
       "\n",
       "                      Author  Year  \\\n",
       "0         Mark P. O. Morford  2002   \n",
       "1       Richard Bruce Wright  2001   \n",
       "2               Carlo D'Este  1991   \n",
       "3           Gina Bari Kolata  1999   \n",
       "4            E. J. W. Barber  1999   \n",
       "...                      ...   ...   \n",
       "271374        Paula Danziger  1988   \n",
       "271375            Teri Sloat  1991   \n",
       "271376      Christine Wicker  2004   \n",
       "271377                 Plato  1996   \n",
       "271378   Christopher  Biffle  2000   \n",
       "\n",
       "                                               Publisher  \n",
       "0                                Oxford University Press  \n",
       "1                                  HarperFlamingo Canada  \n",
       "2                                        HarperPerennial  \n",
       "3                                   Farrar Straus Giroux  \n",
       "4                                 W. W. Norton & Company  \n",
       "...                                                  ...  \n",
       "271374                   Random House Childrens Pub (Mm)  \n",
       "271375                                      Dutton Books  \n",
       "271376                                HarperSanFrancisco  \n",
       "271377                           Oxford University Press  \n",
       "271378  McGraw-Hill Humanities/Social Sciences/Languages  \n",
       "\n",
       "[271379 rows x 5 columns]"
      ]
     },
     "execution_count": 4,
     "metadata": {},
     "output_type": "execute_result"
    }
   ],
   "source": [
    "books_df"
   ]
  },
  {
   "cell_type": "code",
   "execution_count": 5,
   "id": "247d1749",
   "metadata": {},
   "outputs": [
    {
     "data": {
      "text/plain": [
       "User-ID    0\n",
       "ISBN       0\n",
       "Rating     0\n",
       "dtype: int64"
      ]
     },
     "execution_count": 5,
     "metadata": {},
     "output_type": "execute_result"
    }
   ],
   "source": [
    "#Data Cleaning. We'll need to check if there are any missing values for all of them. If yes, we'll fill them with some values\n",
    "ratings_df.isna().sum()"
   ]
  },
  {
   "cell_type": "code",
   "execution_count": 6,
   "id": "880ae1a2",
   "metadata": {},
   "outputs": [
    {
     "data": {
      "text/plain": [
       "User-ID         0\n",
       "Age        110232\n",
       "dtype: int64"
      ]
     },
     "execution_count": 6,
     "metadata": {},
     "output_type": "execute_result"
    }
   ],
   "source": [
    "users_df.isna().sum()"
   ]
  },
  {
   "cell_type": "code",
   "execution_count": 7,
   "id": "f4a5616c",
   "metadata": {},
   "outputs": [
    {
     "data": {
      "text/plain": [
       "User-ID         0\n",
       "Age        111708\n",
       "dtype: int64"
      ]
     },
     "execution_count": 7,
     "metadata": {},
     "output_type": "execute_result"
    }
   ],
   "source": [
    "users_df[\"Age\"] = users_df[\"Age\"].apply(pd.to_numeric, errors='coerce')\n",
    "#Now again check the count of the NaN values\n",
    "users_df.isna().sum()"
   ]
  },
  {
   "cell_type": "code",
   "execution_count": 8,
   "id": "d80e6464",
   "metadata": {},
   "outputs": [
    {
     "name": "stderr",
     "output_type": "stream",
     "text": [
      "C:\\Users\\bhavy\\AppData\\Local\\Temp\\ipykernel_12804\\2898036736.py:1: FutureWarning: A value is trying to be set on a copy of a DataFrame or Series through chained assignment using an inplace method.\n",
      "The behavior will change in pandas 3.0. This inplace method will never work because the intermediate object on which we are setting values always behaves as a copy.\n",
      "\n",
      "For example, when doing 'df[col].method(value, inplace=True)', try using 'df.method({col: value}, inplace=True)' or df[col] = df[col].method(value) instead, to perform the operation inplace on the original object.\n",
      "\n",
      "\n",
      "  users_df[\"Age\"].fillna(users_df[\"Age\"].mean(), inplace=True)\n"
     ]
    },
    {
     "data": {
      "text/plain": [
       "User-ID    0\n",
       "Age        0\n",
       "dtype: int64"
      ]
     },
     "execution_count": 8,
     "metadata": {},
     "output_type": "execute_result"
    }
   ],
   "source": [
    "users_df[\"Age\"].fillna(users_df[\"Age\"].mean(), inplace=True)\n",
    "users_df.isna().sum()"
   ]
  },
  {
   "cell_type": "code",
   "execution_count": 9,
   "id": "835f67c3",
   "metadata": {},
   "outputs": [
    {
     "data": {
      "text/plain": [
       "ISBN         0\n",
       "Title        0\n",
       "Author       2\n",
       "Year         0\n",
       "Publisher    2\n",
       "dtype: int64"
      ]
     },
     "execution_count": 9,
     "metadata": {},
     "output_type": "execute_result"
    }
   ],
   "source": [
    "#Ensuring that the Age is Numeric\n",
    "users_df[\"Age\"] = users_df[\"Age\"].astype('int')\n",
    "books_df.isna().sum()"
   ]
  },
  {
   "cell_type": "code",
   "execution_count": 10,
   "id": "8918cb58",
   "metadata": {},
   "outputs": [
    {
     "name": "stderr",
     "output_type": "stream",
     "text": [
      "C:\\Users\\bhavy\\AppData\\Local\\Temp\\ipykernel_12804\\2505801823.py:1: FutureWarning: A value is trying to be set on a copy of a DataFrame or Series through chained assignment using an inplace method.\n",
      "The behavior will change in pandas 3.0. This inplace method will never work because the intermediate object on which we are setting values always behaves as a copy.\n",
      "\n",
      "For example, when doing 'df[col].method(value, inplace=True)', try using 'df.method({col: value}, inplace=True)' or df[col] = df[col].method(value) instead, to perform the operation inplace on the original object.\n",
      "\n",
      "\n",
      "  books_df[\"Author\"].fillna(\"Unknown Author\",inplace=True)\n",
      "C:\\Users\\bhavy\\AppData\\Local\\Temp\\ipykernel_12804\\2505801823.py:2: FutureWarning: A value is trying to be set on a copy of a DataFrame or Series through chained assignment using an inplace method.\n",
      "The behavior will change in pandas 3.0. This inplace method will never work because the intermediate object on which we are setting values always behaves as a copy.\n",
      "\n",
      "For example, when doing 'df[col].method(value, inplace=True)', try using 'df.method({col: value}, inplace=True)' or df[col] = df[col].method(value) instead, to perform the operation inplace on the original object.\n",
      "\n",
      "\n",
      "  books_df[\"Publisher\"].fillna(\"Unknown Publisher\",inplace=True)\n"
     ]
    },
    {
     "data": {
      "text/plain": [
       "ISBN         0\n",
       "Title        0\n",
       "Author       0\n",
       "Year         0\n",
       "Publisher    0\n",
       "dtype: int64"
      ]
     },
     "execution_count": 10,
     "metadata": {},
     "output_type": "execute_result"
    }
   ],
   "source": [
    "books_df[\"Author\"].fillna(\"Unknown Author\",inplace=True)\n",
    "books_df[\"Publisher\"].fillna(\"Unknown Publisher\",inplace=True)\n",
    "books_df.isna().sum()"
   ]
  },
  {
   "cell_type": "code",
   "execution_count": 11,
   "id": "2e1a3f96",
   "metadata": {},
   "outputs": [
    {
     "data": {
      "text/plain": [
       "False"
      ]
     },
     "execution_count": 11,
     "metadata": {},
     "output_type": "execute_result"
    }
   ],
   "source": [
    "#Checking if there are any duplicate values in the dataframes\n",
    "users_df.duplicated().any()\n",
    "books_df.duplicated().any()\n",
    "ratings_df.duplicated().any()"
   ]
  },
  {
   "cell_type": "code",
   "execution_count": 12,
   "id": "625f6711",
   "metadata": {},
   "outputs": [],
   "source": [
    "#Dropping the duplicate value from the books_df\n",
    "books_df.drop_duplicates(inplace=True)"
   ]
  },
  {
   "cell_type": "code",
   "execution_count": 13,
   "id": "11a171dc",
   "metadata": {},
   "outputs": [],
   "source": [
    "#Creating a mapping for each userids and isbnsto numeric indices\n",
    "user_map = {user_id:idx for idx,user_id in enumerate(ratings_df[\"User-ID\"].unique())}\n",
    "book_map = {isbn:idx for idx, isbn in enumerate(ratings_df[\"ISBN\"].unique())}\n",
    "#Now mapping the Userids and isbns to indices\n",
    "ratings_df[\"user_indx\"] = ratings_df[\"User-ID\"].map(user_map)\n",
    "ratings_df[\"book_indx\"] = ratings_df[\"ISBN\"].map(book_map)"
   ]
  },
  {
   "cell_type": "code",
   "execution_count": 14,
   "id": "8ac51b77",
   "metadata": {},
   "outputs": [
    {
     "data": {
      "text/plain": [
       "0               0\n",
       "1               1\n",
       "2               2\n",
       "3               3\n",
       "4               3\n",
       "            ...  \n",
       "1149775    105278\n",
       "1149776    105279\n",
       "1149777    105280\n",
       "1149778    105281\n",
       "1149779    105282\n",
       "Name: user_indx, Length: 1149780, dtype: int64"
      ]
     },
     "execution_count": 14,
     "metadata": {},
     "output_type": "execute_result"
    }
   ],
   "source": [
    "ratings_df['user_indx']"
   ]
  },
  {
   "cell_type": "code",
   "execution_count": 15,
   "id": "17ae70a3",
   "metadata": {},
   "outputs": [
    {
     "data": {
      "text/plain": [
       "0               0\n",
       "1               1\n",
       "2               2\n",
       "3               3\n",
       "4               4\n",
       "            ...  \n",
       "1149775    226347\n",
       "1149776      7295\n",
       "1149777     12065\n",
       "1149778     78598\n",
       "1149779    340555\n",
       "Name: book_indx, Length: 1149780, dtype: int64"
      ]
     },
     "execution_count": 15,
     "metadata": {},
     "output_type": "execute_result"
    }
   ],
   "source": [
    "ratings_df['book_indx']"
   ]
  },
  {
   "cell_type": "code",
   "execution_count": 16,
   "id": "2fcdc327",
   "metadata": {},
   "outputs": [
    {
     "name": "stdout",
     "output_type": "stream",
     "text": [
      "<COOrdinate sparse matrix of dtype 'int64'\n",
      "\twith 1149780 stored elements and shape (105283, 340556)>\n",
      "  Coords\tValues\n",
      "  (0, 0)\t0\n",
      "  (1, 1)\t5\n",
      "  (2, 2)\t0\n",
      "  (3, 3)\t3\n",
      "  (3, 4)\t6\n",
      "  (4, 5)\t0\n",
      "  (5, 6)\t8\n",
      "  (6, 7)\t6\n",
      "  (7, 8)\t7\n",
      "  (8, 9)\t10\n",
      "  (9, 10)\t0\n",
      "  (9, 11)\t0\n",
      "  (9, 12)\t0\n",
      "  (9, 13)\t0\n",
      "  (9, 14)\t0\n",
      "  (9, 15)\t0\n",
      "  (10, 16)\t9\n",
      "  (10, 17)\t0\n",
      "  (10, 18)\t0\n",
      "  (10, 19)\t9\n",
      "  (10, 20)\t8\n",
      "  (10, 21)\t7\n",
      "  (10, 22)\t0\n",
      "  (10, 23)\t7\n",
      "  (11, 24)\t6\n",
      "  :\t:\n",
      "  (105276, 109199)\t0\n",
      "  (105276, 255395)\t0\n",
      "  (105276, 340552)\t0\n",
      "  (105277, 146362)\t0\n",
      "  (105278, 50527)\t0\n",
      "  (105278, 34599)\t0\n",
      "  (105278, 3111)\t6\n",
      "  (105278, 50534)\t5\n",
      "  (105278, 56824)\t0\n",
      "  (105278, 12047)\t0\n",
      "  (105278, 26864)\t0\n",
      "  (105278, 20167)\t0\n",
      "  (105278, 46617)\t0\n",
      "  (105278, 8545)\t0\n",
      "  (105278, 195285)\t0\n",
      "  (105278, 340553)\t0\n",
      "  (105278, 8851)\t7\n",
      "  (105278, 2104)\t0\n",
      "  (105278, 340554)\t5\n",
      "  (105278, 284681)\t0\n",
      "  (105278, 226347)\t9\n",
      "  (105279, 7295)\t0\n",
      "  (105280, 12065)\t10\n",
      "  (105281, 78598)\t10\n",
      "  (105282, 340555)\t8\n"
     ]
    }
   ],
   "source": [
    "sparse_matrix = coo_matrix(\n",
    "    (ratings_df[\"Rating\"], (ratings_df[\"user_indx\"], ratings_df[\"book_indx\"])),\n",
    "    shape=(len(user_map), len(book_map)),\n",
    ")\n",
    "print(sparse_matrix)"
   ]
  },
  {
   "cell_type": "code",
   "execution_count": null,
   "id": "6e46bba9",
   "metadata": {},
   "outputs": [],
   "source": [
    "# Writing the sparse matrix in libsvm format\n",
    "pd.DataFrame.sparse.from_spmatrix(sparse_matrix)\n",
    "with open(\"output.libsvm\", \"w\") as file:\n",
    "    for user_indx in range(sparse_matrix.shape[0]):\n",
    "        # Get all non-zero ratings for the user\n",
    "        row = sparse_matrix.getrow(user_indx).tocoo()\n",
    "        ratings = [f\"{book_indx+1}:{rating}\" for book_indx, rating in zip(row.col, row.data)]\n",
    "        # Write the line (e.g., \"0 1:5 3:10\")\n",
    "        file.write(f\"{user_indx} \" + \" \".join(ratings) + \"\\n\")\n",
    "\n",
    "print(\"Libsvm file has been created successfully: output.libsvm\")"
   ]
  }
 ],
 "metadata": {
  "kernelspec": {
   "display_name": "Python 3",
   "language": "python",
   "name": "python3"
  },
  "language_info": {
   "codemirror_mode": {
    "name": "ipython",
    "version": 3
   },
   "file_extension": ".py",
   "mimetype": "text/x-python",
   "name": "python",
   "nbconvert_exporter": "python",
   "pygments_lexer": "ipython3",
   "version": "3.11.0rc2"
  }
 },
 "nbformat": 4,
 "nbformat_minor": 5
}
