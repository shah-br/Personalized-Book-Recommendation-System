{
 "cells": [
  {
   "cell_type": "code",
   "execution_count": null,
   "id": "fd44e7b1",
   "metadata": {},
   "outputs": [],
   "source": [
    "import pandas as pd\n",
    "import csv\n",
    "from scipy.sparse import coo_matrix\n"
   ]
  },
  {
   "cell_type": "code",
   "execution_count": null,
   "id": "3e6587a3",
   "metadata": {},
   "outputs": [],
   "source": [
    "# Step 1: Load the CSV files\n",
    "ratings_df = pd.read_csv(\"Ratings.csv\", sep=\";\")\n",
    "users_df = pd.read_csv(\"Users.csv\", sep=\";\", low_memory=False)\n",
    "books_df = pd.read_csv(\"Books.csv\", delimiter=\";\")\n",
    "ratings_df\n"
   ]
  },
  {
   "cell_type": "code",
   "execution_count": null,
   "id": "5b51a040",
   "metadata": {},
   "outputs": [],
   "source": [
    "users_df"
   ]
  },
  {
   "cell_type": "code",
   "execution_count": null,
   "id": "fd222030",
   "metadata": {},
   "outputs": [],
   "source": [
    "books_df"
   ]
  },
  {
   "cell_type": "code",
   "execution_count": null,
   "id": "247d1749",
   "metadata": {},
   "outputs": [],
   "source": [
    "#Data Cleaning. We'll need to check if there are any missing values for all of them. If yes, we'll fill them with some values\n",
    "ratings_df.isna().sum()"
   ]
  },
  {
   "cell_type": "code",
   "execution_count": null,
   "id": "880ae1a2",
   "metadata": {},
   "outputs": [],
   "source": [
    "users_df.isna().sum()"
   ]
  },
  {
   "cell_type": "code",
   "execution_count": null,
   "id": "f4a5616c",
   "metadata": {},
   "outputs": [],
   "source": [
    "users_df[\"Age\"] = users_df[\"Age\"].apply(pd.to_numeric, errors='coerce')\n",
    "#Now again check the count of the NaN values\n",
    "users_df.isna().sum()"
   ]
  },
  {
   "cell_type": "code",
   "execution_count": null,
   "id": "d80e6464",
   "metadata": {},
   "outputs": [],
   "source": [
    "users_df[\"Age\"].fillna(users_df[\"Age\"].mean(), inplace=True)\n",
    "users_df.isna().sum()"
   ]
  },
  {
   "cell_type": "code",
   "execution_count": null,
   "id": "835f67c3",
   "metadata": {},
   "outputs": [],
   "source": [
    "#Ensuring that the Age is Numeric\n",
    "users_df[\"Age\"] = users_df[\"Age\"].astype('int')\n",
    "books_df.isna().sum()"
   ]
  },
  {
   "cell_type": "code",
   "execution_count": null,
   "id": "8918cb58",
   "metadata": {},
   "outputs": [],
   "source": [
    "books_df[\"Author\"].fillna(\"Unknown Author\",inplace=True)\n",
    "books_df[\"Publisher\"].fillna(\"Unknown Publisher\",inplace=True)\n",
    "books_df.isna().sum()"
   ]
  },
  {
   "cell_type": "code",
   "execution_count": null,
   "id": "2e1a3f96",
   "metadata": {},
   "outputs": [],
   "source": [
    "#Checking if there are any duplicate values in the dataframes\n",
    "users_df.duplicated().any()\n",
    "books_df.duplicated().any()\n",
    "ratings_df.duplicated().any()"
   ]
  },
  {
   "cell_type": "code",
   "execution_count": null,
   "id": "625f6711",
   "metadata": {},
   "outputs": [],
   "source": [
    "#Dropping the duplicate value from the books_df\n",
    "books_df.drop_duplicates(inplace=True)"
   ]
  },
  {
   "cell_type": "code",
   "execution_count": null,
   "id": "11a171dc",
   "metadata": {},
   "outputs": [],
   "source": [
    "#Creating a mapping for each userids and isbnsto numeric indices\n",
    "user_map = {user_id:idx for idx,user_id in enumerate(ratings_df[\"User-ID\"].unique())}\n",
    "book_map = {isbn:idx for idx, isbn in enumerate(ratings_df[\"ISBN\"].unique())}\n",
    "#Now mapping the Userids and isbns to indices\n",
    "ratings_df[\"user_indx\"] = ratings_df[\"User-ID\"].map(user_map)\n",
    "ratings_df[\"book_indx\"] = ratings_df[\"ISBN\"].map(book_map)"
   ]
  },
  {
   "cell_type": "code",
   "execution_count": null,
   "id": "8ac51b77",
   "metadata": {},
   "outputs": [],
   "source": [
    "ratings_df['user_indx']"
   ]
  },
  {
   "cell_type": "code",
   "execution_count": null,
   "id": "17ae70a3",
   "metadata": {},
   "outputs": [],
   "source": [
    "ratings_df['book_indx']"
   ]
  },
  {
   "cell_type": "code",
   "execution_count": null,
   "id": "2fcdc327",
   "metadata": {},
   "outputs": [],
   "source": [
    "sparse_matrix = coo_matrix(\n",
    "    (ratings_df[\"Rating\"], (ratings_df[\"user_indx\"], ratings_df[\"book_indx\"])),\n",
    "    shape=(len(user_map), len(book_map)),\n",
    ")\n",
    "print(sparse_matrix)"
   ]
  },
  {
   "cell_type": "code",
   "execution_count": null,
   "id": "6e46bba9",
   "metadata": {},
   "outputs": [],
   "source": [
    "# Writing the sparse matrix in libsvm format\n",
    "pd.DataFrame.sparse.from_spmatrix(sparse_matrix)\n",
    "with open(\"output.libsvm\", \"w\") as file:\n",
    "    for user_indx in range(sparse_matrix.shape[0]):\n",
    "        # Get all non-zero ratings for the user\n",
    "        row = sparse_matrix.getrow(user_indx).tocoo()\n",
    "        ratings = [f\"{book_indx+1}:{rating}\" for book_indx, rating in zip(row.col, row.data)]\n",
    "        # Write the line (e.g., \"0 1:5 3:10\")\n",
    "        file.write(f\"{user_indx} \" + \" \".join(ratings) + \"\\n\")\n",
    "\n",
    "print(\"Libsvm file has been created successfully: output.libsvm\")"
   ]
  }
 ],
 "metadata": {
  "kernelspec": {
   "display_name": "Python 3",
   "language": "python",
   "name": "python3"
  },
  "language_info": {
   "codemirror_mode": {
    "name": "ipython",
    "version": 3
   },
   "file_extension": ".py",
   "mimetype": "text/x-python",
   "name": "python",
   "nbconvert_exporter": "python",
   "pygments_lexer": "ipython3",
   "version": "3.11.0rc2"
  }
 },
 "nbformat": 4,
 "nbformat_minor": 5
}
